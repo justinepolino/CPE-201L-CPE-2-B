{
  "nbformat": 4,
  "nbformat_minor": 0,
  "metadata": {
    "colab": {
      "provenance": [],
      "authorship_tag": "ABX9TyP2Ya14g3zU76zFI6EwfEsQ",
      "include_colab_link": true
    },
    "kernelspec": {
      "name": "python3",
      "display_name": "Python 3"
    },
    "language_info": {
      "name": "python"
    }
  },
  "cells": [
    {
      "cell_type": "markdown",
      "metadata": {
        "id": "view-in-github",
        "colab_type": "text"
      },
      "source": [
        "<a href=\"https://colab.research.google.com/github/justinepolino/CPE-201L-CPE-2-B/blob/main/Lab_Activity_5_Justine_Poli%C3%B1o_.ipynb\" target=\"_parent\"><img src=\"https://colab.research.google.com/assets/colab-badge.svg\" alt=\"Open In Colab\"/></a>"
      ]
    },
    {
      "cell_type": "code",
      "execution_count": 1,
      "metadata": {
        "colab": {
          "base_uri": "https://localhost:8080/"
        },
        "id": "jJQ_IJ9iV-kq",
        "outputId": "a481dbdc-7cd1-4f0d-aa7b-cc32e16a1a54"
      },
      "outputs": [
        {
          "output_type": "stream",
          "name": "stdout",
          "text": [
            "=== Array Sum Operation ===\n",
            "Array items: [1, 2, 3, 4, 5, 6, 7, 8, 9, 10]\n",
            "Element at index 0: 1\n",
            "Element at index 5: 6\n",
            "Element at index 9: 10\n",
            "Sum of array elements: 55\n",
            "\n",
            "=== Append Item Operation ===\n",
            "Original array: [1, 2, 3, 4, 5, 6, 7, 8, 9, 10]\n",
            "Array after appending 11: [1, 2, 3, 4, 5, 6, 7, 8, 9, 10, 11]\n",
            "\n",
            "=== Insert Item Operation ===\n",
            "Original array: [1, 2, 3, 4, 5, 6, 7, 8, 9, 10]\n",
            "Array after inserting 1.5 before the second element: [1, 1.5, 2, 3, 4, 5, 6, 7, 8, 9, 10]\n",
            "\n",
            "=== Reverse Array Operation ===\n",
            "Original array: [5, 4, 3, 2, 1]\n",
            "Reversed array: [1, 2, 3, 4, 5]\n",
            "\n",
            "=== Array Length Operation ===\n",
            "Array: [5, 4, 3, 2, 1]\n",
            "Length of the array: 5\n"
          ]
        }
      ],
      "source": [
        "\n",
        "# Access individual elements through indexes and compute for the sum.\n",
        "def array_sum():\n",
        "    numbers = [1, 2, 3, 4, 5, 6, 7, 8, 9, 10]\n",
        "    print(\"Array items:\", numbers)\n",
        "\n",
        "    # Access individual elements through indexes\n",
        "    print(\"Element at index 0:\", numbers[0])\n",
        "    print(\"Element at index 5:\", numbers[5])\n",
        "    print(\"Element at index 9:\", numbers[9])\n",
        "\n",
        "\n",
        "    total = sum(numbers)\n",
        "    print(\"Sum of array elements:\", total)\n",
        "    return total\n",
        "\n",
        "\n",
        "\n",
        "\n",
        "\n",
        "# Original array: numbers = [1, 2, 3, 4, 5, 6, 7, 8, 9, 10]\n",
        "def append_item():\n",
        "    numbers = [1, 2, 3, 4, 5, 6, 7, 8, 9, 10]  # f2\n",
        "    print(\"Original array:\", numbers)\n",
        "\n",
        "    # Append a new item to the end of the array\n",
        "    numbers.append(11)  # f2\n",
        "    print(\"Array after appending 11:\", numbers)\n",
        "    return numbers\n",
        "\n",
        "\n",
        "\n",
        "\n",
        "#Original array: numbers = [1, 2, 3, 4, 5, 6, 7, 8, 9, 10]\n",
        "def insert_item():\n",
        "    numbers = [1, 2, 3, 4, 5, 6, 7, 8, 9, 10]\n",
        "    print(\"Original array:\", numbers)\n",
        "\n",
        "    # Insert a new item before the second element\n",
        "    numbers.insert(1, 1.5)\n",
        "    print(\"Array after inserting 1.5 before the second element:\", numbers)\n",
        "    return numbers\n",
        "\n",
        "\n",
        "\n",
        "\n",
        "\n",
        "#Original array: numbers = [5, 4, 3, 2, 1]\n",
        "def reverse_array():\n",
        "    numbers = [5, 4, 3, 2, 1]\n",
        "    print(\"Original array:\", numbers)\n",
        "\n",
        "\n",
        "    numbers.reverse()\n",
        "    print(\"Reversed array:\", numbers)\n",
        "    return numbers\n",
        "\n",
        "\n",
        "\n",
        "\n",
        "\n",
        "#Original array: numbers = [5, 4, 3, 2, 1]\n",
        "def array_length():\n",
        "    numbers = [5, 4, 3, 2, 1]\n",
        "    print(\"Array:\", numbers)\n",
        "\n",
        "    #Get the length of the array\n",
        "    length = len(numbers)\n",
        "    print(\"Length of the array:\", length)\n",
        "    return length\n",
        "\n",
        "\n",
        "\n",
        "# Main program to demonstrate all functions\n",
        "if __name__ == \"__main__\":\n",
        "    print(\"=== Array Sum Operation ===\")\n",
        "    array_sum()\n",
        "\n",
        "    print(\"\\n=== Append Item Operation ===\")\n",
        "    append_item()\n",
        "\n",
        "    print(\"\\n=== Insert Item Operation ===\")\n",
        "    insert_item()\n",
        "\n",
        "    print(\"\\n=== Reverse Array Operation ===\")\n",
        "    reverse_array()\n",
        "\n",
        "    print(\"\\n=== Array Length Operation ===\")\n",
        "    array_length()"
      ]
    }
  ]
}