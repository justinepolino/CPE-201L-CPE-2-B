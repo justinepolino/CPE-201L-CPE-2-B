{
  "nbformat": 4,
  "nbformat_minor": 0,
  "metadata": {
    "colab": {
      "provenance": [],
      "authorship_tag": "ABX9TyPTCgt3tCUs4Xn1taqQFOYU",
      "include_colab_link": true
    },
    "kernelspec": {
      "name": "python3",
      "display_name": "Python 3"
    },
    "language_info": {
      "name": "python"
    }
  },
  "cells": [
    {
      "cell_type": "markdown",
      "metadata": {
        "id": "view-in-github",
        "colab_type": "text"
      },
      "source": [
        "<a href=\"https://colab.research.google.com/github/justinepolino/CPE-201L-CPE-2-B/blob/main/Activity%201.ipynb\" target=\"_parent\"><img src=\"https://colab.research.google.com/assets/colab-badge.svg\" alt=\"Open In Colab\"/></a>"
      ]
    },
    {
      "cell_type": "code",
      "source": [
        "import math\n",
        "radius = float(input(\"Enter the radius of the circle: \"))\n",
        "area = math.pi * radius ** 2\n",
        "print(f\"The area of the circle with radius {radius} is {area:.2f}\")"
      ],
      "metadata": {
        "id": "37a_XS8OdUlb"
      },
      "execution_count": null,
      "outputs": []
    },
    {
      "cell_type": "code",
      "source": [
        "import math\n",
        "\n",
        "diameter = float(input(\"Enter the diameter of the circle: \"))\n",
        "area = math.pi * (diameter / 2 ) ** 2\n",
        "print(f\"The area of the circle with diameter {diameter} is {area}\")"
      ],
      "metadata": {
        "id": "9BG3YuwLdfQ-"
      },
      "execution_count": null,
      "outputs": []
    }
  ]
}