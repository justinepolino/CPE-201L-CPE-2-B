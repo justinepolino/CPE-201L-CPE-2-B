{
  "nbformat": 4,
  "nbformat_minor": 0,
  "metadata": {
    "colab": {
      "provenance": [],
      "authorship_tag": "ABX9TyNfbUu7FlCvcmKjS5+Bbhr/",
      "include_colab_link": true
    },
    "kernelspec": {
      "name": "python3",
      "display_name": "Python 3"
    },
    "language_info": {
      "name": "python"
    }
  },
  "cells": [
    {
      "cell_type": "markdown",
      "metadata": {
        "id": "view-in-github",
        "colab_type": "text"
      },
      "source": [
        "<a href=\"https://colab.research.google.com/github/justinepolino/CPE-201L-CPE-2-B/blob/main/Midterm_Test_Skill_Poli%C3%B1o_.ipynb\" target=\"_parent\"><img src=\"https://colab.research.google.com/assets/colab-badge.svg\" alt=\"Open In Colab\"/></a>"
      ]
    },
    {
      "cell_type": "code",
      "source": [
        "# Create an array containing all integers less than 50 but not less than 20 (20 to 49)\n",
        "array = list(range(20, 50))\n",
        "\n",
        "# Operation a: Display all of the elements\n",
        "print(\"Elements in the array:\", array)\n",
        "\n",
        "# Operation b: Count the number of elements\n",
        "element_count = len(array)\n",
        "print(\"Number of elements:\", element_count)\n",
        "\n",
        "# Operation c: Count the number of odd and even integerd\n",
        "odd_count = len([num for num in array if num % 2 != 0])\n",
        "print(\"Number of odd integers:\", odd_count)\n",
        "\n",
        "even_count = len ([num for num in array if num % 2 == 0])\n",
        "print(\"Number of even integers:\", even_count)\n"
      ],
      "metadata": {
        "colab": {
          "base_uri": "https://localhost:8080/"
        },
        "id": "VUSph82UdqAb",
        "outputId": "d8a0778c-82f7-4348-94e4-22f4b5ee1595"
      },
      "execution_count": 6,
      "outputs": [
        {
          "output_type": "stream",
          "name": "stdout",
          "text": [
            "Elements in the array: [20, 21, 22, 23, 24, 25, 26, 27, 28, 29, 30, 31, 32, 33, 34, 35, 36, 37, 38, 39, 40, 41, 42, 43, 44, 45, 46, 47, 48, 49]\n",
            "Number of elements: 30\n",
            "Number of odd integers: 15\n",
            "Number of even integers: 15\n"
          ]
        }
      ]
    },
    {
      "cell_type": "code",
      "source": [],
      "metadata": {
        "id": "nqv9ar_0dsSb"
      },
      "execution_count": null,
      "outputs": []
    }
  ]
}