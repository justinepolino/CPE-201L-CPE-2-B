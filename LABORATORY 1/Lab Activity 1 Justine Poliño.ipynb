{
  "nbformat": 4,
  "nbformat_minor": 0,
  "metadata": {
    "colab": {
      "provenance": [],
      "authorship_tag": "ABX9TyP8Fp8xIjw8yy3NP4jtBchs",
      "include_colab_link": true
    },
    "kernelspec": {
      "name": "python3",
      "display_name": "Python 3"
    },
    "language_info": {
      "name": "python"
    }
  },
  "cells": [
    {
      "cell_type": "markdown",
      "metadata": {
        "id": "view-in-github",
        "colab_type": "text"
      },
      "source": [
        "<a href=\"https://colab.research.google.com/github/justinepolino/CPE-201L-CPE-2-B/blob/main/Lab%20Activity%201%20Justine%20Poli%C3%B1o.ipynb\" target=\"_parent\"><img src=\"https://colab.research.google.com/assets/colab-badge.svg\" alt=\"Open In Colab\"/></a>"
      ]
    },
    {
      "cell_type": "code",
      "execution_count": 1,
      "metadata": {
        "id": "L5jFM1IGh8zP",
        "colab": {
          "base_uri": "https://localhost:8080/"
        },
        "outputId": "d53028a2-3e94-4e0d-bbd9-f049fab4e9a8"
      },
      "outputs": [
        {
          "output_type": "stream",
          "name": "stdout",
          "text": [
            "Triangle 3 15.5\n",
            "4\n"
          ]
        }
      ],
      "source": [
        "class Polygons:\n",
        "    def __init__(self, name: str = \"\", sides: int = 3, area: float = 0.0):\n",
        "        self._name = name\n",
        "        self._sides = sides\n",
        "        self._area = area\n",
        "\n",
        "    def set_name(self, name: str):\n",
        "        self._name = name\n",
        "\n",
        "    def get_name(self) -> str:\n",
        "        return self._name\n",
        "\n",
        "    def set_sides(self, sides: int):\n",
        "        self._sides = sides\n",
        "\n",
        "    def get_sides(self) -> int:\n",
        "        return self._sides\n",
        "\n",
        "    def set_area(self, area: float):\n",
        "        self._area = area\n",
        "\n",
        "    def get_area(self) -> float:\n",
        "        return self._area\n",
        "\n",
        "    # Property for name\n",
        "    name = property(get_name, set_name)\n",
        "    # Property for sides\n",
        "    sides = property(get_sides, set_sides)\n",
        "    # Property for area\n",
        "    area = property(get_area, set_area)\n",
        "\n",
        "# Usage\n",
        "t = Polygons(\"Triangle\", 3, 15.5)\n",
        "print(t.name, t.sides, t.area) # Triangle 3 15.5\n",
        "t.sides = 4\n",
        "print(t.sides) # 4"
      ]
    }
  ]
}