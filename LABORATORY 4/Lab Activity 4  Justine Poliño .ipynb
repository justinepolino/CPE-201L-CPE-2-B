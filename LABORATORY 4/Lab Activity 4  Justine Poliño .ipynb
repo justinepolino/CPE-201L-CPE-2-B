{
  "cells": [
    {
      "cell_type": "markdown",
      "metadata": {
        "id": "view-in-github",
        "colab_type": "text"
      },
      "source": [
        "<a href=\"https://colab.research.google.com/github/justinepolino/CPE-201L-CPE-2-B/blob/main/Lab%20Activity%204%20%20Justine%20Poli%C3%B1o%20.ipynb\" target=\"_parent\"><img src=\"https://colab.research.google.com/assets/colab-badge.svg\" alt=\"Open In Colab\"/></a>"
      ]
    },
    {
      "cell_type": "code",
      "source": [
        "class GroceryItem:\n",
        "    def __init__(self, name, price, quantity):\n",
        "        self.name, self.price, self.quantity = name, price, quantity\n",
        "\n",
        "    def __del__(self):\n",
        "        print(f\"Memory released for {self.name}\")\n",
        "\n",
        "    def total(self):\n",
        "        return self.price * self.quantity\n",
        "\n",
        "    def __str__(self):\n",
        "        return f\"{self.name} | PHP {self.price} | x{self.quantity} | Total: PHP {self.total()}\"\n",
        "\n",
        "class Fruit(GroceryItem):\n",
        "    def __str__(self):\n",
        "        return f\"[Fruit] {super().__str__()}\"\n",
        "\n",
        "class Vegetable(GroceryItem):\n",
        "    def __str__(self):\n",
        "        return f\"[Vegetable] {super().__str__()}\"\n",
        "\n",
        "def main():\n",
        "    # Problem 1 & 2: Create classes and array GroceryList\n",
        "    items = [Fruit(\"Apple\", 10, 7), Fruit(\"Banana\", 10, 8),\n",
        "             Vegetable(\"Broccoli\", 60, 12), Vegetable(\"Lettuce\", 50, 10)]\n",
        "\n",
        "    # Problem 2: Display all items in the array\n",
        "    print(\"Jenna's Grocery List:\\n\" + \"=\" * 55)\n",
        "    for i, item in enumerate(items, 1):\n",
        "        print(f\"{i}. {item}\")\n",
        "\n",
        "    # Problem 3: Calculate total sum of all items\n",
        "    total = sum(item.total() for item in items)\n",
        "    print(\"=\" * 55 + f\"\\nTotal Amount: PHP {total}\\n\")\n",
        "\n",
        "    # Problem 4: Delete Lettuce from the list\n",
        "    print(\"Removing Lettuce from the list...\")\n",
        "    items = [item for item in items if item.name != \"Lettuce\"]\n",
        "\n",
        "    # Display updated list after deletion\n",
        "    print(\"Updated Grocery List:\\n\" + \"=\" * 55)\n",
        "    for i, item in enumerate(items, 1):\n",
        "        print(f\"{i}. {item}\")\n",
        "\n",
        "    # Calculate new total after deletion\n",
        "    new_total = sum(item.total() for item in items)\n",
        "    print(\"=\" * 55 + f\"\\nUpdated Total: PHP {new_total}\")\n",
        "\n",
        "if __name__ == \"__main__\":\n",
        "    main()"
      ],
      "metadata": {
        "id": "pRrYOgta_3H8",
        "outputId": "08a1ae71-7288-43e9-b7ce-48f80baab5de",
        "colab": {
          "base_uri": "https://localhost:8080/"
        }
      },
      "execution_count": 6,
      "outputs": [
        {
          "output_type": "stream",
          "name": "stdout",
          "text": [
            "Jenna's Grocery List:\n",
            "=======================================================\n",
            "1. [Fruit] Apple | PHP 10 | x7 | Total: PHP 70\n",
            "2. [Fruit] Banana | PHP 10 | x8 | Total: PHP 80\n",
            "3. [Vegetable] Broccoli | PHP 60 | x12 | Total: PHP 720\n",
            "4. [Vegetable] Lettuce | PHP 50 | x10 | Total: PHP 500\n",
            "=======================================================\n",
            "Total Amount: PHP 1370\n",
            "\n",
            "Removing Lettuce from the list...\n",
            "Updated Grocery List:\n",
            "=======================================================\n",
            "Memory released for Lettuce\n",
            "1. [Fruit] Apple | PHP 10 | x7 | Total: PHP 70\n",
            "2. [Fruit] Banana | PHP 10 | x8 | Total: PHP 80\n",
            "3. [Vegetable] Broccoli | PHP 60 | x12 | Total: PHP 720\n",
            "=======================================================\n",
            "Updated Total: PHP 870\n",
            "Memory released for Banana\n",
            "Memory released for Apple\n",
            "Memory released for Broccoli\n"
          ]
        }
      ]
    }
  ],
  "metadata": {
    "colab": {
      "name": "Welcome To Colab",
      "toc_visible": true,
      "provenance": [],
      "include_colab_link": true
    },
    "kernelspec": {
      "display_name": "Python 3",
      "name": "python3"
    }
  },
  "nbformat": 4,
  "nbformat_minor": 0
}