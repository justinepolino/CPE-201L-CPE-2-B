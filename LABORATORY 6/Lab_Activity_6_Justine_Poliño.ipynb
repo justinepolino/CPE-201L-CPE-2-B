{
  "nbformat": 4,
  "nbformat_minor": 0,
  "metadata": {
    "colab": {
      "provenance": [],
      "authorship_tag": "ABX9TyPdCMkyVKnWl2XF7kKsyKzM",
      "include_colab_link": true
    },
    "kernelspec": {
      "name": "python3",
      "display_name": "Python 3"
    },
    "language_info": {
      "name": "python"
    }
  },
  "cells": [
    {
      "cell_type": "markdown",
      "metadata": {
        "id": "view-in-github",
        "colab_type": "text"
      },
      "source": [
        "<a href=\"https://colab.research.google.com/github/justinepolino/CPE-201L-CPE-2-B/blob/main/Lab_Activity_7_Justine_Poli%C3%B1o.ipynb\" target=\"_parent\"><img src=\"https://colab.research.google.com/assets/colab-badge.svg\" alt=\"Open In Colab\"/></a>"
      ]
    },
    {
      "cell_type": "code",
      "source": [
        "class Node:\n",
        "    def __init__(self, data):\n",
        "        self.data = data\n",
        "        self.next = None\n",
        "\n",
        "class LinkedList:\n",
        "    def __init__(self):\n",
        "        self.head = None\n",
        "        self.tail = None\n",
        "\n",
        "    def append(self, data):\n",
        "        new_node = Node(data)\n",
        "        if not self.head:\n",
        "            self.head = self.tail = new_node\n",
        "        else:\n",
        "            self.tail.next = new_node\n",
        "            self.tail = new_node\n",
        "\n",
        "    def display(self):\n",
        "        elements, current = [], self.head\n",
        "        while current:\n",
        "            elements.append(str(current.data))\n",
        "            current = current.next\n",
        "        return \",\".join(elements)\n",
        "\n",
        "#Create linked list with prime numbers <20\n",
        "primes = [2, 3, 5, 7, 11, 13, 17, 19]\n",
        "prime_list = LinkedList()\n",
        "\n",
        "for p in primes:\n",
        "    prime_list.append(p)\n",
        "\n",
        "#display results\n",
        "print(\"Prime numbers less than 20:\")\n",
        "print(prime_list.display())\n",
        "print(f\"Head of the list: {prime_list.head.data}\")\n",
        "print(f\"Tail of the list: {prime_list.tail.data}\")"
      ],
      "metadata": {
        "colab": {
          "base_uri": "https://localhost:8080/"
        },
        "id": "nLY-sww3kh6y",
        "outputId": "4f3e71c2-971e-45ac-d457-a54d558a3919"
      },
      "execution_count": 5,
      "outputs": [
        {
          "output_type": "stream",
          "name": "stdout",
          "text": [
            "Prime numbers less than 20:\n",
            "2,3,5,7,11,13,17,19\n",
            "Head of the list: 2\n",
            "Tail of the list: 19\n"
          ]
        }
      ]
    }
  ]
}
