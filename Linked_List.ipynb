{
  "nbformat": 4,
  "nbformat_minor": 0,
  "metadata": {
    "colab": {
      "provenance": [],
      "authorship_tag": "ABX9TyNcYdLwDFEO+Rb8gTHwe+Rh",
      "include_colab_link": true
    },
    "kernelspec": {
      "name": "python3",
      "display_name": "Python 3"
    },
    "language_info": {
      "name": "python"
    }
  },
  "cells": [
    {
      "cell_type": "markdown",
      "metadata": {
        "id": "view-in-github",
        "colab_type": "text"
      },
      "source": [
        "<a href=\"https://colab.research.google.com/github/justinepolino/CPE-201L-CPE-2-B/blob/main/Linked_List.ipynb\" target=\"_parent\"><img src=\"https://colab.research.google.com/assets/colab-badge.svg\" alt=\"Open In Colab\"/></a>"
      ]
    },
    {
      "cell_type": "code",
      "source": [
        "# Node class\n",
        "class Node:\n",
        "\n",
        "    # Function to initialize the node object\n",
        "    def __init__(self, data):\n",
        "        self.data = data # Assign data\n",
        "        self.next = None # Initialize\n",
        "                        # next as null\n",
        "\n",
        "# Linked List class\n",
        "class LinkedList:\n",
        "\n",
        "    # Function to initialize the Linked\n",
        "    # List object\n",
        "    def __init__(self):\n",
        "        self.head = None\n",
        "    def print_data(self):\n",
        "      current =self.head\n",
        "      while current:\n",
        "        print(current.data)\n",
        "        current=current.next\n",
        "    def print_reverse(self):\n",
        "      self._print_reverse_helper(self.head)\n",
        "    def _print_reverse_helper(self, node):\n",
        "      if node is None:\n",
        "        return\n",
        "      self._print_reverse_helper(node.next)\n",
        "      print(node.data)\n",
        "\n",
        "if __name__=='__main__':\n",
        "# Starts with an empty list\n",
        "    llist = LinkedList()\n",
        "\n",
        "    llist.head = Node(\"A\")  #object 1\n",
        "    second = Node(\"B\")        #object 2\n",
        "    third = Node(\"C\")\n",
        "    fourth = Node(\"D\")\n",
        "\n",
        "    llist.head.next = second # Link first node with second\n",
        "    second.next = third # Link second node with the third node\n",
        "    third.next = fourth #Link third to fourth\n",
        "\n",
        "    print(\"Original list:\")\n",
        "    llist.print_data()\n",
        "\n",
        "    print(\"\\nReversed order :\")\n",
        "    llist.print_reverse()"
      ],
      "metadata": {
        "colab": {
          "base_uri": "https://localhost:8080/"
        },
        "id": "_xqiNFIYiKWv",
        "outputId": "682b6f1c-47a8-4ee8-d975-9782af295435"
      },
      "execution_count": 10,
      "outputs": [
        {
          "output_type": "stream",
          "name": "stdout",
          "text": [
            "Original list:\n",
            "A\n",
            "B\n",
            "C\n",
            "D\n",
            "\n",
            "Reversed order :\n",
            "D\n",
            "C\n",
            "B\n",
            "A\n"
          ]
        }
      ]
    }
  ]
}