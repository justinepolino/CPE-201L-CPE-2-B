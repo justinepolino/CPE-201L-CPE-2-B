{
  "cells": [
    {
      "cell_type": "markdown",
      "metadata": {
        "id": "view-in-github",
        "colab_type": "text"
      },
      "source": [
        "<a href=\"https://colab.research.google.com/github/justinepolino/CPE-201L-CPE-2-B/blob/main/Lab%20Activity%202%20Justine%20Poli%C3%B1o%20.ipynb\" target=\"_parent\"><img src=\"https://colab.research.google.com/assets/colab-badge.svg\" alt=\"Open In Colab\"/></a>"
      ]
    },
    {
      "cell_type": "code",
      "source": [
        "def find_min_max(seq):\n",
        "    if len(seq) == 1:\n",
        "        return seq[0], seq[0]\n",
        "    min_rest, max_rest = find_min_max(seq[1:])\n",
        "    return min(seq[0], min_rest), max(seq[0], max_rest)\n",
        "\n",
        "numbers = [15, 42, 7, 33, 56, 21, 88, 4]\n",
        "min_val, max_val = find_min_max(numbers)\n",
        "print(\"Minimum:\", min_val)\n",
        "print(\"Maximum:\", max_val)"
      ],
      "metadata": {
        "id": "DIenDaSioGRx",
        "outputId": "de495c48-49e6-45b1-a3f8-ae104170aae6",
        "colab": {
          "base_uri": "https://localhost:8080/"
        }
      },
      "execution_count": 2,
      "outputs": [
        {
          "output_type": "stream",
          "name": "stdout",
          "text": [
            "Minimum: 4\n",
            "Maximum: 88\n"
          ]
        }
      ]
    }
  ],
  "metadata": {
    "colab": {
      "name": "Welcome To Colab",
      "toc_visible": true,
      "provenance": [],
      "include_colab_link": true
    },
    "kernelspec": {
      "display_name": "Python 3",
      "name": "python3"
    }
  },
  "nbformat": 4,
  "nbformat_minor": 0
}