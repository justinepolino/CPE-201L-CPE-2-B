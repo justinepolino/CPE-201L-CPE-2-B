{
  "cells": [
    {
      "cell_type": "markdown",
      "metadata": {
        "id": "view-in-github",
        "colab_type": "text"
      },
      "source": [
        "<a href=\"https://colab.research.google.com/github/justinepolino/CPE-201L-CPE-2-B/blob/main/Queue.ipynb\" target=\"_parent\"><img src=\"https://colab.research.google.com/assets/colab-badge.svg\" alt=\"Open In Colab\"/></a>"
      ]
    },
    {
      "cell_type": "code",
      "source": [
        "queue = []\n",
        "\n",
        "# Enqueue items into queue\n",
        "queue.append('A')\n",
        "queue.append('B')\n",
        "queue.append('C')\n",
        "print(\"Queue after enqueue:\", queue)\n",
        "\n",
        "# Dequeue items from the queue\n",
        "# Correcting the pop operations with valid indices\n",
        "print(\"Dequeue (pop) item:\", queue.pop(0))  # Pops the first item\n",
        "print(\"Dequeue (pop) item:\", queue.pop(0))  # Pops the next item\n",
        "print(\"Dequeue (pop) item:\", queue.pop(0))  # Pops the last item\n",
        "print(\"Queue after dequeue:\", queue)\n",
        "\n",
        "# Function to check if the queue is empty\n",
        "def empty_queue():\n",
        "    if len(queue) == 0:\n",
        "        print(\"The queue is empty.\")\n",
        "    else:\n",
        "        print(\"The queue is not empty.\")\n",
        "\n",
        "# Check if the queue is empty\n",
        "empty_queue()\n"
      ],
      "metadata": {
        "id": "sA7rOhGjGdoA",
        "outputId": "79802102-10d9-4a2f-f1bf-901d2a14d59f",
        "colab": {
          "base_uri": "https://localhost:8080/"
        }
      },
      "execution_count": 10,
      "outputs": [
        {
          "output_type": "stream",
          "name": "stdout",
          "text": [
            "Queue after enqueue: ['A', 'B', 'C']\n",
            "Dequeue (pop) item: A\n",
            "Dequeue (pop) item: B\n",
            "Dequeue (pop) item: C\n",
            "Queue after dequeue: []\n",
            "The queue is empty.\n"
          ]
        }
      ]
    }
  ],
  "metadata": {
    "colab": {
      "name": "Welcome To Colab",
      "toc_visible": true,
      "provenance": [],
      "include_colab_link": true
    },
    "kernelspec": {
      "display_name": "Python 3",
      "name": "python3"
    }
  },
  "nbformat": 4,
  "nbformat_minor": 0
}