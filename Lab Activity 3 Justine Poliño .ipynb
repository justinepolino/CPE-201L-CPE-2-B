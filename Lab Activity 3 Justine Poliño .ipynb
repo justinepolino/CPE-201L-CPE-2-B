{
  "cells": [
    {
      "cell_type": "markdown",
      "metadata": {
        "id": "view-in-github",
        "colab_type": "text"
      },
      "source": [
        "<a href=\"https://colab.research.google.com/github/justinepolino/CPE-201L-CPE-2-B/blob/main/Lab%20Activity%203%20Justine%20Poli%C3%B1o%20.ipynb\" target=\"_parent\"><img src=\"https://colab.research.google.com/assets/colab-badge.svg\" alt=\"Open In Colab\"/></a>"
      ]
    },
    {
      "cell_type": "code",
      "source": [
        "total = 0\n",
        "scores = [26, 49, 98, 87, 62, 75]\n",
        "for number in scores:\n",
        "\n",
        "    if number % 2 == 0:\n",
        "\n",
        "        total += number\n",
        "print(\"Sum of even numbers:\", total)"
      ],
      "metadata": {
        "id": "RaGVVsy8bQS7",
        "outputId": "8443b290-1509-4b22-d72c-b54b5dd7e20a",
        "colab": {
          "base_uri": "https://localhost:8080/"
        }
      },
      "execution_count": 1,
      "outputs": [
        {
          "output_type": "stream",
          "name": "stdout",
          "text": [
            "Sum of even numbers: 186\n"
          ]
        }
      ]
    }
  ],
  "metadata": {
    "colab": {
      "name": "Welcome To Colab",
      "toc_visible": true,
      "provenance": [],
      "include_colab_link": true
    },
    "kernelspec": {
      "display_name": "Python 3",
      "name": "python3"
    }
  },
  "nbformat": 4,
  "nbformat_minor": 0
}