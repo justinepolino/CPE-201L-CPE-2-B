{
  "nbformat": 4,
  "nbformat_minor": 0,
  "metadata": {
    "colab": {
      "provenance": [],
      "authorship_tag": "ABX9TyP1vg35YmKomYkL9B4c3Be4",
      "include_colab_link": true
    },
    "kernelspec": {
      "name": "python3",
      "display_name": "Python 3"
    },
    "language_info": {
      "name": "python"
    }
  },
  "cells": [
    {
      "cell_type": "markdown",
      "metadata": {
        "id": "view-in-github",
        "colab_type": "text"
      },
      "source": [
        "<a href=\"https://colab.research.google.com/github/justinepolino/CPE-201L-CPE-2-B/blob/main/Long_Quiz_DSA-%20POLI%C3%91O%20.ipynb\" target=\"_parent\"><img src=\"https://colab.research.google.com/assets/colab-badge.svg\" alt=\"Open In Colab\"/></a>"
      ]
    },
    {
      "cell_type": "code",
      "source": [
        "name = \"Justine Poliño\"\n",
        "print(name)\n",
        "arr = [\"J\",\"U\",\"S\",\"T\",\"I\",\"N\",\"E\",\" \",\"P\",\"O\",\"L\",\"I\",\"Ñ\",\"O\"]\n",
        "print( arr)\n",
        "arr.reverse()\n",
        "print(\"Reversed:\", arr)"
      ],
      "metadata": {
        "colab": {
          "base_uri": "https://localhost:8080/"
        },
        "id": "gXz2O2ml0Iow",
        "outputId": "318fe98b-e728-4259-c210-3455d010b639"
      },
      "execution_count": 13,
      "outputs": [
        {
          "output_type": "stream",
          "name": "stdout",
          "text": [
            "Justine Poliño\n",
            "['J', 'U', 'S', 'T', 'I', 'N', 'E', ' ', 'P', 'O', 'L', 'I', 'Ñ', 'O']\n",
            "Reversed: ['O', 'Ñ', 'I', 'L', 'O', 'P', ' ', 'E', 'N', 'I', 'T', 'S', 'U', 'J']\n"
          ]
        }
      ]
    }
  ]
}